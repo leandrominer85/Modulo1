{
 "cells": [
  {
   "cell_type": "markdown",
   "metadata": {},
   "source": [
    "Módulo 1\n",
    "Especificação de Projeto\n",
    "PIs: XXX/360\n",
    "A empresa PyCoders Ltda armazena os contatos dos seus fornecedores em um arquivo .csv.\n",
    "Nesse arquivo, existem três campos delimitados por `;`, na seguinte ordem:\n",
    "1. Nome do fornecedor;\n",
    "2. Telefone do fornecedor;\n",
    "3. Email do fornecedor.\n",
    "\n",
    "Como sabemos, a ordem e os `;` no arquivo são necessários para identificar e delimitar os\n",
    "campos. Porém, alguém da PyCoders Ltda não sabia disso e sem querer acabou mexendo na\n",
    "ordem. Por exemplo, em algumas linhas colocou primeiro o telefone do fornecedor e depois\n",
    "o nome. Em outras, o email veio na primeira posição. Você terá que identificar se o que está\n",
    "no arquivo é o nome, telefone ou email do fornecedor. Depois, você deverá armazenar\n",
    "essas informações de uma lista de objetos da classe Contato (com atributos nome, telefone\n",
    "e email), a qual será criada pela squad. E em seguida, criar uma ferramenta de interface\n",
    "para permitir a leitura de contatos específicos (busca por nome), permitir a remoção e\n",
    "adição de fornecedores nessa lista de contatos, além de armazenar essas informações em\n",
    "um .csv.\n",
    "\n",
    "Milestone 1\n",
    "Criar classe Contato com os atributos especificados. Testar e validar a criação de objetos\n",
    "dessa classe.\n",
    "\n",
    "Milestone 2\n",
    "Ler o arquivo .csv e armazenar os dados da forma correta em instâncias da classe Contato,\n",
    "as quais deverão estar em uma lista.\n",
    "Sugestão: quebrar ao máximo por funções e testar cada parte de forma separada. Por\n",
    "exemplo, criar uma função que dada uma string, retorna se ela é nome, telefone ou email.\n",
    "\n",
    "Milestone 3\n",
    "Criar interface com o usuário para adição e remoção de contatos, busca por contatos e\n",
    "armazenamento em .csv.\n",
    "Sugestão: utilizar exceções para tratamento de erros e mal uso do usuário."
   ]
  },
  {
   "cell_type": "code",
   "execution_count": null,
   "metadata": {},
   "outputs": [],
   "source": [
    "# class Contato():\n",
    "#     nome=None\n",
    "#     tel= None\n",
    "#     e_mail= None\n",
    "    \n",
    "#     def __init__ (self,nome,tel,e_mail ):\n",
    "#         sel.nome=nome\n",
    "#         self.tel = tel\n",
    "#         self.e_mail = e_mail\n",
    "        \n",
    "#     def nome (self, nome):\n",
    "#         while True:\n",
    "#             if isinstance(self.nome, str) == True :\n",
    "#                 print (\"Digite um nome válido\")\n",
    "#                 continue\n",
    "#             else:\n",
    "#                 return nome        \n",
    "        \n",
    "        \n",
    "    \n",
    "#     def tel (self,tel):\n",
    "#         while True:\n",
    "#             if isinstance(self.nome, int) == True:\n",
    "#                 print (\"Digite um telefone válido\")\n",
    "#                 continue\n",
    "#             elif len(str(self.tel)) != 11:\n",
    "#                 print (\"Digite um telefone válido\")\n",
    "#                 continue\n",
    "#             else:\n",
    "#                 continue\n",
    "        \n",
    "    \n",
    "#     def e_mail (self,e_mail):\n",
    "        \n",
    "        \n",
    "        \n",
    "        "
   ]
  },
  {
   "cell_type": "code",
   "execution_count": 40,
   "metadata": {},
   "outputs": [
    {
     "name": "stdout",
     "output_type": "stream",
     "text": [
      "Art;8566368749;art@venere.org\n"
     ]
    }
   ],
   "source": [
    "import csv\n",
    "file = open( r\"D:\\Dropbox\\Pessoal\\Python\\Lets\\Projeto 1\\contatos.csv\",\"r\" )\n",
    "file2 = open( r\"D:\\Dropbox\\Pessoal\\Python\\Lets\\Projeto 1\\contatos2.csv\",\"w\" )\n",
    "reader = csv.reader(file, delimiter =\";\")\n",
    "\n",
    "\n",
    "e_mail=[]\n",
    "tel=[]\n",
    "nome=[]\n",
    "lista_final= []\n",
    "\n",
    "\n",
    "\n",
    "def posicao(reader):\n",
    "    for row in reader:\n",
    "        for i in row:\n",
    "            if i.find('@') == -1 and i.isalpha() == True:\n",
    "                nome.append(i)\n",
    "            elif  i.find('@') >= 1:\n",
    "                e_mail.append(i)\n",
    "            elif i.isdigit() == True:\n",
    "                tel.append(i)\n",
    "    return nome , tel, e_mail\n",
    "\n",
    "    \n",
    "\n",
    "posicao(reader)\n",
    "    \n",
    "    \n",
    "def concatenar(posicao):\n",
    "    for i in range(len(nome)):\n",
    "        l = nome[i] +\";\" + tel[i]+\";\" + e_mail[i]\n",
    "        lista_final.append(l)\n",
    "    return lista_final\n",
    "    \n",
    "\n",
    "    \n",
    "concatenar(posicao)\n",
    "    \n",
    "print(lista_final[2])\n",
    "\n",
    "for i in range(len(lista_final)):\n",
    "    a = lista_final[i]\n",
    "    file2.write(a)\n",
    "    file2.write(\"\\n\")\n",
    "\n",
    "\n",
    "file.close()\n",
    "file2.close()"
   ]
  },
  {
   "cell_type": "code",
   "execution_count": null,
   "metadata": {},
   "outputs": [],
   "source": [
    "posicao_email(reader)"
   ]
  },
  {
   "cell_type": "code",
   "execution_count": null,
   "metadata": {},
   "outputs": [],
   "source": []
  },
  {
   "cell_type": "code",
   "execution_count": null,
   "metadata": {},
   "outputs": [],
   "source": []
  }
 ],
 "metadata": {
  "kernelspec": {
   "display_name": "Python 3",
   "language": "python",
   "name": "python3"
  },
  "language_info": {
   "codemirror_mode": {
    "name": "ipython",
    "version": 3
   },
   "file_extension": ".py",
   "mimetype": "text/x-python",
   "name": "python",
   "nbconvert_exporter": "python",
   "pygments_lexer": "ipython3",
   "version": "3.6.5"
  }
 },
 "nbformat": 4,
 "nbformat_minor": 2
}
